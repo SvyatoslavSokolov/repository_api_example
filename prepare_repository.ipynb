{
 "cells": [
  {
   "cell_type": "markdown",
   "metadata": {},
   "source": [
    "ENV"
   ]
  },
  {
   "cell_type": "code",
   "execution_count": 5,
   "metadata": {},
   "outputs": [],
   "source": [
    "import os\n",
    "from dotenv import load_dotenv \n",
    "load_dotenv() \n",
    "\n",
    "SOURCE_DIR = os.getenv(\"SOURCE_DIR\")\n",
    "GITLAB_PATH = os.getenv(\"GITLAB_PATH\")\n",
    "GROUP_NAME = os.getenv(\"GROUP_NAME\")\n",
    "USER_NAME = os.getenv(\"USER_NAME\")\n",
    "USER_MAIL = os.getenv(\"USER_MAIL\")\n",
    "PRIVATE_TOKEN_GITLAB = os.getenv(\"PRIVATE_TOKEN_GITLAB\")\n",
    "PRIVATE_TOKEN_GITHUB = os.getenv(\"PRIVATE_TOKEN_GITHUB\")\n",
    "LLM_PATH = os.getenv(\"LLM_PATH\")\n",
    "LLM_MODEL_NAME = os.getenv(\"LLM_MODEL_NAME\")"
   ]
  },
  {
   "cell_type": "markdown",
   "metadata": {},
   "source": [
    "Create Folder for ipynb files"
   ]
  },
  {
   "cell_type": "code",
   "execution_count": null,
   "metadata": {},
   "outputs": [],
   "source": [
    "import os\n",
    "import shutil\n",
    "\n",
    "# Loop through all files in the source directory\n",
    "for filename in os.listdir(SOURCE_DIR):\n",
    "    if filename.endswith('.ipynb'):\n",
    "        # Create a folder for this file (use the same name as the file without extension)\n",
    "        dest_dir = os.path.join(SOURCE_DIR, os.path.splitext(filename)[0])\n",
    "        os.makedirs(dest_dir, exist_ok=True)  # 'exist_ok' will not raise error if the directory already exists\n",
    "        # Move the file to this new folder\n",
    "        shutil.move(os.path.join(SOURCE_DIR, filename), dest_dir)"
   ]
  },
  {
   "cell_type": "markdown",
   "metadata": {},
   "source": [
    "LLM README"
   ]
  },
  {
   "cell_type": "code",
   "execution_count": null,
   "metadata": {},
   "outputs": [],
   "source": [
    "import nbformat\n",
    "# Example: reuse your existing OpenAI setup\n",
    "from openai import OpenAI\n",
    "import openai\n",
    "import httpx\n",
    "from glob import glob\n",
    "from tqdm import tqdm\n",
    "import os\n",
    "from nbconvert import PythonExporter\n",
    "# Point to the local server\n",
    "client = OpenAI(base_url=LLM_PATH, api_key=\"lm-studio\")\n",
    "\n",
    "\n",
    "def convertNotebook(notebookPath):\n",
    "  with open(notebookPath) as fh:\n",
    "    nb = nbformat.reads(fh.read(), nbformat.NO_CONVERT)\n",
    "\n",
    "  exporter = PythonExporter()\n",
    "  source, meta = exporter.from_notebook_node(nb)\n",
    "  return source\n",
    "\n",
    "\n",
    "for folder in tqdm(glob(f'{SOURCE_DIR}/*')):\n",
    "    print(folder)\n",
    "    # Example usage\n",
    "\n",
    "    if os.path.exists(f'{folder}/README.MD'):\n",
    "      continue\n",
    "\n",
    "    notebook_str = convertNotebook(f'{folder}/{os.path.basename(folder)}.ipynb')\n",
    "    completion = client.chat.completions.create(\n",
    "    model=LLM_MODEL_NAME,\n",
    "    messages=[\n",
    "        {\"role\": \"system\", \"content\": \"This is code from kaggle competition, Write a detailed README file, as if it were code on Github, add to readme: Name of the competition, type of problem to be solved, link to the competition on Kaggle, description of the competition problem, libraries used, in the style of a scientific paper\"},\n",
    "        {\"role\": \"user\", \"content\": f\"{notebook_str}\"}\n",
    "    ],\n",
    "    temperature=0.3,\n",
    "    timeout = httpx.Timeout(3600.0, read=3600.0, write=3600.0, connect=3600.0)\n",
    "    )\n",
    "\n",
    "    with open(f'{folder}/README.MD', 'w') as f:\n",
    "        f.write(completion.choices[0].message.content)\n"
   ]
  },
  {
   "cell_type": "markdown",
   "metadata": {},
   "source": [
    "This script will go through all subdirectories from the current directory, check if they are Git repositories (by looking for a .git folder), and if not, it will initialize them."
   ]
  },
  {
   "cell_type": "code",
   "execution_count": null,
   "metadata": {},
   "outputs": [],
   "source": [
    "import os\n",
    "import subprocess\n",
    "\n",
    "def add_git_config(folder):\n",
    "    # Navigate to the folder\n",
    "    os.chdir(folder)\n",
    "\n",
    "    if not os.path.exists(os.path.join(os.path.basename(folder), '.git')):\n",
    "        print('Initializing repository at {}'.format(os.path.basename(folder)))\n",
    "        subprocess.run(['git', 'init'], check=True)\n",
    "    # Add Git remote for Github\n",
    "    github_url = f\"git@github.com:{USER_NAME}/{os.path.basename(folder)}.git\"\n",
    "    subprocess.run([\"git\", \"remote\", \"add\", \"github\", github_url])\n",
    "    subprocess.run([\"git\", \"config\", \"--local\", \"remote.github.fetch\", \"+refs/heads/*:refs/remotes/github/*\"])\n",
    "\n",
    "    # Add Git remote for Gitlab\n",
    "    gitlab_url = f\"{GITLAB_PATH}/{GROUP_NAME}/{os.path.basename(folder)}.git\"\n",
    "    subprocess.run([\"git\", \"remote\", \"add\", \"gitlab\", gitlab_url])\n",
    "    subprocess.run([\"git\", \"config\", \"--local\", \"remote.gitlab.fetch\", \"+refs/heads/*:refs/remotes/gitlab/*\"])\n",
    "\n",
    "    # Add user info to Git config\n",
    "    subprocess.run([\"git\", \"config\", \"--local\", \"user.name\", USER_NAME])\n",
    "    subprocess.run([\"git\", \"config\", \"--local\", \"user.email\", USER_MAIL])\n",
    "\n",
    "    # Set master and main branches to merge from Github and Gitlab respectively\n",
    "    subprocess.run([\"git\", \"branch\", \"-m\", \"master\", \"main\"])  # Rename master branch to main if necessary\n",
    "    subprocess.run([\"git\", \"config\", \"--local\", \"branch.master.remote\", \"gitlab\"])\n",
    "    subprocess.run([\"git\", \"config\", \"--local\", \"branch.master.merge\", \"refs/heads/master\"])\n",
    "    subprocess.run([\"git\", \"config\", \"--local\", \"branch.main.remote\", \"github\"])\n",
    "    subprocess.run([\"git\", \"config\", \"--local\", \"branch.main.merge\", \"refs/heads/main\"])\n",
    "\n",
    "    os.chdir('../../')\n",
    "\n",
    "from glob import glob\n",
    "for dirpath in glob(f'{SOURCE_DIR}/*'):\n",
    "    add_git_config(dirpath)"
   ]
  },
  {
   "cell_type": "markdown",
   "metadata": {},
   "source": [
    "Create repository"
   ]
  },
  {
   "cell_type": "code",
   "execution_count": 13,
   "metadata": {},
   "outputs": [
    {
     "name": "stdout",
     "output_type": "stream",
     "text": [
      "Failed to create repository '2-5d-cutting-model-baseline-inference'. Status code: 401\n"
     ]
    }
   ],
   "source": [
    "import requests\n",
    "from glob import glob\n",
    "import os\n",
    "\n",
    "def initialize_repository(url_base, folder, url, headers):\n",
    "        if url_base=='gitlab':\n",
    "            data = {\n",
    "                'name': os.path.basename(folder),\n",
    "                'visibility': 'public',   # or public, internal\n",
    "                \"namespace_id\":\"2\"\n",
    "            }\n",
    "        elif url_base=='github':\n",
    "             data = {\n",
    "                'name': os.path.basename(folder),\n",
    "                'private': True,  # Set to True for private repositories\n",
    "                'description': f'Description of {os.path.basename(folder)}: Kaggle competiton',\n",
    "                \"is_template\":'true',\n",
    "                \"homepage\":\"https://github.com\"\n",
    "                }                    \n",
    "        response = requests.post(url, headers=headers, json=data)\n",
    "        if response.status_code == 201:\n",
    "            print(f\"Successfully created repository '{os.path.basename(folder)}'\")\n",
    "        else:\n",
    "            print(f\"Failed to create repository '{os.path.basename(folder)}'. Status code: {response.status_code}\")\n",
    "\n",
    "#GitLab\n",
    "# url = f\"{GITLAB_PATH}/api/v4/projects\"\n",
    "# headers = {'Private-Token': PRIVATE_TOKEN_GITLAB}\n",
    "\n",
    "#Github\n",
    "url = \"https://api.github.com/user/repos\"\n",
    "headers = {'Authorization':f'Bearer {PRIVATE_TOKEN_GITHUB}',\n",
    "           'Accept': 'application/vnd.github+json',\n",
    "           'X-GitHub-Api-Version': '2022-11-28'\n",
    "           }\n",
    "\n",
    "for folder in glob(f'{SOURCE_DIR}/*'):\n",
    "    initialize_repository(\"github\", folder, url, headers)\n",
    "    break\n",
    "\n",
    "# # Change visibility\n",
    "# for i, folder in enumerate(glob('results/*')):\n",
    "#     url = f\"{GITLAB_PATH}/api/v4/projects/{i+10}\"\n",
    "#     data = {\n",
    "#         'visibility': 'public',   # or public, internal\n",
    "#     }\n",
    "#     response = requests.put(url, headers=headers, data=data)"
   ]
  },
  {
   "cell_type": "markdown",
   "metadata": {},
   "source": [
    "Commit"
   ]
  },
  {
   "cell_type": "code",
   "execution_count": null,
   "metadata": {},
   "outputs": [],
   "source": [
    "import os\n",
    "import subprocess\n",
    "\n",
    "def add_git_config(folder, rep, branch):\n",
    "    # Navigate to the folder\n",
    "    os.chdir(folder)\n",
    "    print(os.getcwd())\n",
    "    print('Initializing repository at {}'.format(os.path.basename(folder)))\n",
    "    # subprocess.run(['git', 'init'], check=True)\n",
    "    # Add Git remote for Github\n",
    "\n",
    "    subprocess.run(['git', 'add', '.'])\n",
    "    subprocess.run(['git', 'commit', '-m', '\"base commit\"'])\n",
    "    subprocess.run(['git', 'push', rep, branch])\n",
    "\n",
    "    os.chdir('../../')\n",
    "\n",
    "from glob import glob\n",
    "for dirpath in glob(f'{SOURCE_DIR}/*'):\n",
    "    add_git_config(dirpath, 'github', 'master')"
   ]
  }
 ],
 "metadata": {
  "kernelspec": {
   "display_name": "Python 3",
   "language": "python",
   "name": "python3"
  },
  "language_info": {
   "codemirror_mode": {
    "name": "ipython",
    "version": 3
   },
   "file_extension": ".py",
   "mimetype": "text/x-python",
   "name": "python",
   "nbconvert_exporter": "python",
   "pygments_lexer": "ipython3",
   "version": "3.10.12"
  }
 },
 "nbformat": 4,
 "nbformat_minor": 2
}
